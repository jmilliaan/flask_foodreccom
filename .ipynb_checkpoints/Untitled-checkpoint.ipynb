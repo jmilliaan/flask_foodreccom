{
 "cells": [
  {
   "cell_type": "code",
   "execution_count": 1,
   "id": "26aa2e15-c16e-426f-9ab7-3f0b6cfc3465",
   "metadata": {
    "tags": []
   },
   "outputs": [],
   "source": [
    "import pandas as pd\n",
    "from process_2 import Consumable"
   ]
  },
  {
   "cell_type": "code",
   "execution_count": 2,
   "id": "b5a67278-fcee-4092-8a31-8ecabad3f816",
   "metadata": {},
   "outputs": [],
   "source": [
    "x = Consumable(\"dataset/makanan/data_makanan.csv\")"
   ]
  },
  {
   "cell_type": "code",
   "execution_count": 3,
   "id": "b39a3cc0-d79c-4b43-84ee-00c257baac0a",
   "metadata": {
    "collapsed": true,
    "jupyter": {
     "outputs_hidden": true
    },
    "tags": []
   },
   "outputs": [
    {
     "data": {
      "text/plain": [
       "(   No         Nama  Ayam  Daging Sapi  Sayur  Ikan  Goreng  Bakar  Kuah  \\\n",
       " 4   5  Ayam Geprek     5            1      2     1       5      1     1   \n",
       " 5   6     Mie Ayam     5            2      3     1       2      1     5   \n",
       " 2   3    McDonalds     3            5      1     2       5      1     1   \n",
       " \n",
       "    Manis  Pedas  \n",
       " 4      1      5  \n",
       " 5      1      2  \n",
       " 2      2      2  ,\n",
       "     No           Nama  Ayam  Daging Sapi  Sayur  Ikan  Goreng  Bakar  Kuah  \\\n",
       " 0    1      Sate Ayam     5            1      1     1       2      5     1   \n",
       " 1    2         Pecel      3            2      5     3       2      1     2   \n",
       " 3    4            KFC     5            3      1     1       5      1     1   \n",
       " 6    7          Bakso     2            5      3     1       2      1     5   \n",
       " 7    8     Ikan Bakar     1            1      2     5       2      5     1   \n",
       " 8    9        Sop Iga     1            5      3     1       1      1     5   \n",
       " 9   10       Sop Ayam     5            1      3     1       1      1     5   \n",
       " 10  11  Gurame Goreng     1            1      1     5       5      2     1   \n",
       " 11  12     Ayam Bakar     5            1      2     1       2      5     1   \n",
       " 12  13    Ayam Goreng     5            1      2     1       5      2     1   \n",
       " 13  14       Ketoprak     2            1      5     1       3      1     2   \n",
       " 14  15    Nasi Goreng     3            2      2     2       5      2     1   \n",
       " \n",
       "     Manis  Pedas  \n",
       " 0       4      2  \n",
       " 1       3      4  \n",
       " 3       2      2  \n",
       " 6       1      2  \n",
       " 7       3      3  \n",
       " 8       2      2  \n",
       " 9       2      2  \n",
       " 10      2      3  \n",
       " 11      3      3  \n",
       " 12      3      3  \n",
       " 13      3      3  \n",
       " 14      1      3  )"
      ]
     },
     "execution_count": 3,
     "metadata": {},
     "output_type": "execute_result"
    }
   ],
   "source": [
    "x.create_options()"
   ]
  },
  {
   "cell_type": "code",
   "execution_count": 4,
   "id": "7405b2da-52a2-46fe-a80c-bfc95a8a3352",
   "metadata": {},
   "outputs": [
    {
     "data": {
      "text/plain": [
       "([5, 6, 3], [3, 2, 1])"
      ]
     },
     "execution_count": 4,
     "metadata": {},
     "output_type": "execute_result"
    }
   ],
   "source": [
    "x.apply_ratings([3, 2, 1])"
   ]
  },
  {
   "cell_type": "code",
   "execution_count": null,
   "id": "bc8879f4-5580-484d-8c1b-e1af9dd11eb1",
   "metadata": {},
   "outputs": [],
   "source": []
  }
 ],
 "metadata": {
  "kernelspec": {
   "display_name": "Python 3 (ipykernel)",
   "language": "python",
   "name": "python3"
  },
  "language_info": {
   "codemirror_mode": {
    "name": "ipython",
    "version": 3
   },
   "file_extension": ".py",
   "mimetype": "text/x-python",
   "name": "python",
   "nbconvert_exporter": "python",
   "pygments_lexer": "ipython3",
   "version": "3.9.7"
  }
 },
 "nbformat": 4,
 "nbformat_minor": 5
}
